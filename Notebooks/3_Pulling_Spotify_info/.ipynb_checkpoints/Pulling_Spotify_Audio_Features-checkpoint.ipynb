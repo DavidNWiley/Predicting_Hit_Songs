{
 "cells": [
  {
   "cell_type": "code",
   "execution_count": 1,
   "metadata": {},
   "outputs": [],
   "source": [
    "import spotipy, pandas as pd"
   ]
  },
  {
   "cell_type": "code",
   "execution_count": 2,
   "metadata": {},
   "outputs": [],
   "source": [
    "from spotipy.oauth2 import SpotifyClientCredentials"
   ]
  },
  {
   "cell_type": "code",
   "execution_count": 3,
   "metadata": {},
   "outputs": [],
   "source": [
    "client_id = '86cbac3f80b247908aa182f39523acb7'\n",
    "client_secret = '69eb2ac93dd34387ab3df18f69e8f081'"
   ]
  },
  {
   "cell_type": "code",
   "execution_count": 4,
   "metadata": {},
   "outputs": [],
   "source": [
    "client_credentials_manager = SpotifyClientCredentials(client_id=client_id, client_secret=client_secret)\n",
    "sp = spotipy.Spotify(client_credentials_manager=client_credentials_manager)"
   ]
  },
  {
   "cell_type": "code",
   "execution_count": null,
   "metadata": {},
   "outputs": [],
   "source": [
    "unknown_energy = []\n",
    "unknown_liveness = []\n",
    "unknown_tempo = []\n",
    "unknown_speechiness = []\n",
    "unknown_acousticness = []\n",
    "unknown_instrumentalness = []\n",
    "unknown_time_signature = []\n",
    "unknown_danceability = []\n",
    "unknown_key = []\n",
    "unknown_duration_ms = []\n",
    "unknown_loudness = []\n",
    "unknown_valence = []\n",
    "unknown_mode = []\n",
    "unknown_title = []\n",
    "unknown_artist = []\n",
    "\n",
    "\n",
    "for ids in unknown_ids:\n",
    "    audio = sp.audio_features(ids)\n",
    "    \n",
    "    unknown_energy.append(audio[0]['energy'])\n",
    "    unknown_liveness.append(audio[0]['liveness'])\n",
    "    unknown_tempo.append(audio[0]['tempo'])\n",
    "    unknown_speechiness.append(audio[0]['speechiness'])\n",
    "    unknown_acousticness.append(audio[0]['acousticness'])\n",
    "    unknown_instrumentalness.append(audio[0]['instrumentalness'])\n",
    "    unknown_time_signature.append(audio[0]['time_signature'])\n",
    "    unknown_danceability.append(audio[0]['danceability'])\n",
    "    unknown_key.append(audio[0]['key'])\n",
    "    unknown_duration_ms.append(audio[0]['duration_ms'])\n",
    "    unknown_loudness.append(audio[0]['loudness'])\n",
    "    unknown_valence.append(audio[0]['valence'])\n",
    "    unknown_mode.append(audio[0]['mode'])\n",
    "    \n",
    "    name = sp.track(ids)\n",
    "    unknown_title.append(name['album']['artists'][0]['name'])\n",
    "    unknown_artist.append(name['name'])"
   ]
  }
 ],
 "metadata": {
  "kernelspec": {
   "display_name": "Python 3",
   "language": "python",
   "name": "python3"
  },
  "language_info": {
   "codemirror_mode": {
    "name": "ipython",
    "version": 3
   },
   "file_extension": ".py",
   "mimetype": "text/x-python",
   "name": "python",
   "nbconvert_exporter": "python",
   "pygments_lexer": "ipython3",
   "version": "3.7.1"
  }
 },
 "nbformat": 4,
 "nbformat_minor": 2
}
