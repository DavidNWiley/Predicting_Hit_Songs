{
 "cells": [
  {
   "cell_type": "markdown",
   "metadata": {},
   "source": [
    "<style type=\"text/css\">"
   ]
  },
  {
   "cell_type": "markdown",
   "metadata": {},
   "source": [
    "##### Importing necessary libraries:"
   ]
  },
  {
   "cell_type": "code",
   "execution_count": 46,
   "metadata": {},
   "outputs": [],
   "source": [
    "import numpy as np, pandas as pd"
   ]
  },
  {
   "cell_type": "markdown",
   "metadata": {},
   "source": [
    "##### Reading in data from csv:"
   ]
  },
  {
   "cell_type": "code",
   "execution_count": 47,
   "metadata": {},
   "outputs": [],
   "source": [
    "# Reading in the data from a csv then immediately putting it into a dataframe\n",
    "#songs = pd.DataFrame(pd.read_csv(\"all_song_data.csv\"))\n",
    "\n",
    "songs = pd.read_csv(\"all_song_data.csv\")"
   ]
  },
  {
   "cell_type": "markdown",
   "metadata": {},
   "source": [
    "##### What the data looks like:"
   ]
  },
  {
   "cell_type": "code",
   "execution_count": 48,
   "metadata": {},
   "outputs": [
    {
     "data": {
      "text/html": [
       "<div>\n",
       "<style scoped>\n",
       "    .dataframe tbody tr th:only-of-type {\n",
       "        vertical-align: middle;\n",
       "    }\n",
       "\n",
       "    .dataframe tbody tr th {\n",
       "        vertical-align: top;\n",
       "    }\n",
       "\n",
       "    .dataframe thead th {\n",
       "        text-align: right;\n",
       "    }\n",
       "</style>\n",
       "<table border=\"1\" class=\"dataframe\">\n",
       "  <thead>\n",
       "    <tr style=\"text-align: right;\">\n",
       "      <th></th>\n",
       "      <th>spotify_id</th>\n",
       "      <th>year</th>\n",
       "      <th>title</th>\n",
       "      <th>artist</th>\n",
       "      <th>peak_pos</th>\n",
       "      <th>popularity</th>\n",
       "      <th>energy</th>\n",
       "      <th>liveness</th>\n",
       "      <th>tempo</th>\n",
       "      <th>speechiness</th>\n",
       "      <th>acousticness</th>\n",
       "      <th>instrumentalness</th>\n",
       "      <th>time_signature</th>\n",
       "      <th>danceability</th>\n",
       "      <th>key</th>\n",
       "      <th>duration_ms</th>\n",
       "      <th>loudness</th>\n",
       "      <th>valence</th>\n",
       "      <th>mode</th>\n",
       "    </tr>\n",
       "  </thead>\n",
       "  <tbody>\n",
       "    <tr>\n",
       "      <td>0</td>\n",
       "      <td>000xQL6tZNLJzIrtIgxqSl</td>\n",
       "      <td>2017</td>\n",
       "      <td>Still Got Time</td>\n",
       "      <td>zayn</td>\n",
       "      <td>66</td>\n",
       "      <td>1</td>\n",
       "      <td>0.627</td>\n",
       "      <td>0.0852</td>\n",
       "      <td>120.963</td>\n",
       "      <td>0.0644</td>\n",
       "      <td>0.13100</td>\n",
       "      <td>0.000000</td>\n",
       "      <td>4</td>\n",
       "      <td>0.748</td>\n",
       "      <td>7</td>\n",
       "      <td>188491</td>\n",
       "      <td>-6.029</td>\n",
       "      <td>0.524</td>\n",
       "      <td>1</td>\n",
       "    </tr>\n",
       "    <tr>\n",
       "      <td>1</td>\n",
       "      <td>0010mZpCCwlPwoBiBsjoac</td>\n",
       "      <td>2014</td>\n",
       "      <td>It's Alright Now</td>\n",
       "      <td>Bombay Bicycle Club</td>\n",
       "      <td>0</td>\n",
       "      <td>0</td>\n",
       "      <td>0.793</td>\n",
       "      <td>0.1440</td>\n",
       "      <td>124.994</td>\n",
       "      <td>0.0352</td>\n",
       "      <td>0.10800</td>\n",
       "      <td>0.000003</td>\n",
       "      <td>3</td>\n",
       "      <td>0.527</td>\n",
       "      <td>3</td>\n",
       "      <td>249947</td>\n",
       "      <td>-4.823</td>\n",
       "      <td>0.597</td>\n",
       "      <td>1</td>\n",
       "    </tr>\n",
       "    <tr>\n",
       "      <td>2</td>\n",
       "      <td>002opcRBgYV5jqoh72QcqA</td>\n",
       "      <td>2016</td>\n",
       "      <td>Just to See You Smile</td>\n",
       "      <td>Why Don't We</td>\n",
       "      <td>0</td>\n",
       "      <td>0</td>\n",
       "      <td>0.618</td>\n",
       "      <td>0.1020</td>\n",
       "      <td>89.901</td>\n",
       "      <td>0.1420</td>\n",
       "      <td>0.05080</td>\n",
       "      <td>0.000000</td>\n",
       "      <td>4</td>\n",
       "      <td>0.707</td>\n",
       "      <td>9</td>\n",
       "      <td>181958</td>\n",
       "      <td>-7.154</td>\n",
       "      <td>0.261</td>\n",
       "      <td>1</td>\n",
       "    </tr>\n",
       "    <tr>\n",
       "      <td>3</td>\n",
       "      <td>003VWU5LKbDkXTqpLQuID1</td>\n",
       "      <td>2013</td>\n",
       "      <td>The Outsiders</td>\n",
       "      <td>eric church</td>\n",
       "      <td>51</td>\n",
       "      <td>1</td>\n",
       "      <td>0.808</td>\n",
       "      <td>0.1010</td>\n",
       "      <td>80.026</td>\n",
       "      <td>0.0633</td>\n",
       "      <td>0.28200</td>\n",
       "      <td>0.000050</td>\n",
       "      <td>4</td>\n",
       "      <td>0.521</td>\n",
       "      <td>7</td>\n",
       "      <td>253640</td>\n",
       "      <td>-5.204</td>\n",
       "      <td>0.323</td>\n",
       "      <td>1</td>\n",
       "    </tr>\n",
       "    <tr>\n",
       "      <td>4</td>\n",
       "      <td>005lwxGU1tms6HGELIcUv9</td>\n",
       "      <td>2008</td>\n",
       "      <td>I Kissed A Girl</td>\n",
       "      <td>katy perry</td>\n",
       "      <td>1</td>\n",
       "      <td>1</td>\n",
       "      <td>0.760</td>\n",
       "      <td>0.1320</td>\n",
       "      <td>129.996</td>\n",
       "      <td>0.0677</td>\n",
       "      <td>0.00223</td>\n",
       "      <td>0.000000</td>\n",
       "      <td>4</td>\n",
       "      <td>0.699</td>\n",
       "      <td>5</td>\n",
       "      <td>179640</td>\n",
       "      <td>-3.173</td>\n",
       "      <td>0.696</td>\n",
       "      <td>1</td>\n",
       "    </tr>\n",
       "  </tbody>\n",
       "</table>\n",
       "</div>"
      ],
      "text/plain": [
       "               spotify_id  year                  title               artist  \\\n",
       "0  000xQL6tZNLJzIrtIgxqSl  2017         Still Got Time                 zayn   \n",
       "1  0010mZpCCwlPwoBiBsjoac  2014       It's Alright Now  Bombay Bicycle Club   \n",
       "2  002opcRBgYV5jqoh72QcqA  2016  Just to See You Smile         Why Don't We   \n",
       "3  003VWU5LKbDkXTqpLQuID1  2013          The Outsiders          eric church   \n",
       "4  005lwxGU1tms6HGELIcUv9  2008        I Kissed A Girl           katy perry   \n",
       "\n",
       "   peak_pos  popularity  energy  liveness    tempo  speechiness  acousticness  \\\n",
       "0        66           1   0.627    0.0852  120.963       0.0644       0.13100   \n",
       "1         0           0   0.793    0.1440  124.994       0.0352       0.10800   \n",
       "2         0           0   0.618    0.1020   89.901       0.1420       0.05080   \n",
       "3        51           1   0.808    0.1010   80.026       0.0633       0.28200   \n",
       "4         1           1   0.760    0.1320  129.996       0.0677       0.00223   \n",
       "\n",
       "   instrumentalness  time_signature  danceability  key  duration_ms  loudness  \\\n",
       "0          0.000000               4         0.748    7       188491    -6.029   \n",
       "1          0.000003               3         0.527    3       249947    -4.823   \n",
       "2          0.000000               4         0.707    9       181958    -7.154   \n",
       "3          0.000050               4         0.521    7       253640    -5.204   \n",
       "4          0.000000               4         0.699    5       179640    -3.173   \n",
       "\n",
       "   valence  mode  \n",
       "0    0.524     1  \n",
       "1    0.597     1  \n",
       "2    0.261     1  \n",
       "3    0.323     1  \n",
       "4    0.696     1  "
      ]
     },
     "execution_count": 48,
     "metadata": {},
     "output_type": "execute_result"
    }
   ],
   "source": [
    "# Looking at the first few songs\n",
    "songs.head()"
   ]
  },
  {
   "cell_type": "markdown",
   "metadata": {},
   "source": [
    "___\n",
    "### <p style=\"text-align:center\"> Visualizing the data to gain insight"
   ]
  },
  {
   "cell_type": "code",
   "execution_count": 49,
   "metadata": {
    "scrolled": false
   },
   "outputs": [
    {
     "data": {
      "image/png": "[encoded data removed]",
      "text/plain": [
       "<Figure size 1080x3600 with 13 Axes>"
      ]
     },
     "metadata": {
      "needs_background": "light"
     },
     "output_type": "display_data"
    }
   ],
   "source": [
    "# matplotlib lets us create the histogram plots to visualize the data\n",
    "import matplotlib.pyplot as plt\n",
    "import matplotlib.patches as mpatches\n",
    "\n",
    "# creating an array of the headers in the data to cycle through a for loop to plot each histogram\n",
    "characteristics = ['energy', \n",
    "                   'liveness', \n",
    "                   'tempo', \n",
    "                   'speechiness', \n",
    "                   'acousticness', \n",
    "                   'instrumentalness', \n",
    "                   'time_signature', \n",
    "                   'danceability', \n",
    "                   'key', \n",
    "                   'duration_ms', \n",
    "                   'loudness', \n",
    "                   'valence', \n",
    "                   'mode']\n",
    "\n",
    "\n",
    "# creating a dataframe specifically for the billboard hits to be compared visually in the histograms\n",
    "popular_songs = songs.loc[songs['popularity']==1]\n",
    "\n",
    "unpopular_songs = songs.loc[songs['popularity']==0]\n",
    "\n",
    "# creating an empty plot grid\n",
    "grid = plt.figure()\n",
    "# the count variable will be used to add each histogram to the grid\n",
    "count = 1\n",
    "\n",
    "# a for loop to create each histogram\n",
    "for name in characteristics:\n",
    "    \n",
    "    # Capitalizing the headers in the name array to be used as titles\n",
    "    title = name.capitalize()\n",
    "    \n",
    "    # adding the histogram for the iteration to the plot grid\n",
    "    # there are two histograms being generated (one with all data, one with just hit songs)\n",
    "    # they are layered (\"stacked\") for comparison\n",
    "    grid.add_subplot(7,2,count)\n",
    "    plt.hist(songs[name], color='blue', label='All Songs', alpha=0.7)\n",
    "    plt.hist(popular_songs[name], color='red', label='Popular Songs', alpha=0.7)\n",
    "    plt.hist(unpopular_songs[name], color='navy', label='Unpopular Songs', histtype='step')\n",
    "    plt.legend(prop={'size': 10})\n",
    "    \n",
    "    # applying title and axis names to the histogram\n",
    "    plt.title(title)\n",
    "    plt.ylabel('Frequency')\n",
    "    plt.xlabel('Value')\n",
    "    # adding 1 to the count to position the next histogram plot\n",
    "    count+=1\n",
    "\n",
    "# configuring the size of plot grid\n",
    "grid.set_figheight(50)\n",
    "grid.set_figwidth(15)\n",
    "\n",
    "# showing plot grid\n",
    "plt.show()"
   ]
  },
  {
   "cell_type": "code",
   "execution_count": 50,
   "metadata": {},
   "outputs": [],
   "source": [
    "# plt.scatter(songs['energy'], songs['loudness'], songs['danceability'], c=songs['popularity'])\n",
    "# plt.show()"
   ]
  },
  {
   "cell_type": "code",
   "execution_count": 51,
   "metadata": {},
   "outputs": [],
   "source": [
    "# from mpl_toolkits.mplot3d import Axes3D\n",
    "\n",
    "# %matplotlib notebook\n",
    "\n",
    "# fig = plt.figure()\n",
    "# ax = fig.add_subplot(111, projection='3d')\n",
    "\n",
    "# ax.scatter(songs['energy'], songs['loudness'], songs['danceability'], c=songs['popularity'], marker='o')\n",
    "\n",
    "# ax.set_xlabel('X Label')\n",
    "# ax.set_ylabel('Y Label')\n",
    "# ax.set_zlabel('Z Label')\n",
    "\n",
    "# plt.show()"
   ]
  },
  {
   "cell_type": "code",
   "execution_count": 52,
   "metadata": {},
   "outputs": [],
   "source": [
    "# #plt.scatter(songs['energy'], songs['loudness'], c=songs['popularity'])\n",
    "# #sns.catplot(x=energy_array, y=popularity_array)\n",
    "# %matplotlib inline\n",
    "\n",
    "# import seaborn as sns\n",
    "\n",
    "# sns.catplot(x='energy', y='loudness', data=songs)\n",
    "# plt.show()"
   ]
  },
  {
   "cell_type": "code",
   "execution_count": 53,
   "metadata": {},
   "outputs": [],
   "source": [
    "attributes = ['popularity', \n",
    "              'energy', \n",
    "              'liveness', \n",
    "              'tempo', \n",
    "              'speechiness', \n",
    "              'acousticness', \n",
    "              'instrumentalness', \n",
    "              'time_signature', \n",
    "              'danceability', \n",
    "              'key', \n",
    "              'duration_ms', \n",
    "              'loudness', \n",
    "              'valence', \n",
    "              'mode']\n",
    "\n",
    "corr_matrix = songs[attributes].corr()"
   ]
  },
  {
   "cell_type": "code",
   "execution_count": 54,
   "metadata": {},
   "outputs": [
    {
     "data": {
      "text/plain": [
       "popularity          1.000000\n",
       "loudness            0.299264\n",
       "danceability        0.253639\n",
       "energy              0.165695\n",
       "time_signature      0.105563\n",
       "speechiness         0.092811\n",
       "valence             0.090136\n",
       "tempo               0.030475\n",
       "key                 0.015335\n",
       "mode               -0.029732\n",
       "duration_ms        -0.040850\n",
       "liveness           -0.065040\n",
       "instrumentalness   -0.224926\n",
       "acousticness       -0.242218\n",
       "Name: popularity, dtype: float64"
      ]
     },
     "execution_count": 54,
     "metadata": {},
     "output_type": "execute_result"
    }
   ],
   "source": [
    "corr_matrix[\"popularity\"].sort_values(ascending=False)"
   ]
  },
  {
   "cell_type": "code",
   "execution_count": 55,
   "metadata": {},
   "outputs": [
    {
     "data": {
      "text/plain": [
       "<matplotlib.axes._subplots.AxesSubplot at 0x7fe797b48898>"
      ]
     },
     "execution_count": 55,
     "metadata": {},
     "output_type": "execute_result"
    },
    {
     "data": {
      "image/png": "[encoded data removed]",
      "text/plain": [
       "<Figure size 576x576 with 2 Axes>"
      ]
     },
     "metadata": {
      "needs_background": "light"
     },
     "output_type": "display_data"
    }
   ],
   "source": [
    "import seaborn as sns\n",
    "\n",
    "main_att = ['popularity', \n",
    "              'energy',   \n",
    "              'speechiness', \n",
    "              'acousticness', \n",
    "              'instrumentalness', \n",
    "              'time_signature', \n",
    "              'danceability',  \n",
    "              'loudness', \n",
    "              'valence']\n",
    "\n",
    "plt.figure(figsize=(8, 8))\n",
    "sns.heatmap(songs[main_att].corr(), annot=True, linewidths = .5, cmap='RdBu_r')"
   ]
  },
  {
   "cell_type": "code",
   "execution_count": 56,
   "metadata": {},
   "outputs": [],
   "source": [
    "# from pandas.plotting import scatter_matrix\n",
    "\n",
    "# songs_df = pd.DataFrame(songs, columns=main_att)\n",
    "# #pd.plotting.scatter_matrix(songs_df, alpha=0.2, figsize=(20, 20))\n",
    "# #plt.show()\n",
    "\n",
    "# sns.pairplot(songs_df)\n",
    "# plt.figure(figsize=(8, 8))\n",
    "# plt.show()"
   ]
  },
  {
   "cell_type": "code",
   "execution_count": 57,
   "metadata": {},
   "outputs": [
    {
     "data": {
      "text/html": [
       "<div>\n",
       "<style scoped>\n",
       "    .dataframe tbody tr th:only-of-type {\n",
       "        vertical-align: middle;\n",
       "    }\n",
       "\n",
       "    .dataframe tbody tr th {\n",
       "        vertical-align: top;\n",
       "    }\n",
       "\n",
       "    .dataframe thead th {\n",
       "        text-align: right;\n",
       "    }\n",
       "</style>\n",
       "<table border=\"1\" class=\"dataframe\">\n",
       "  <thead>\n",
       "    <tr style=\"text-align: right;\">\n",
       "      <th></th>\n",
       "      <th>0</th>\n",
       "      <th>1</th>\n",
       "      <th>2</th>\n",
       "      <th>3</th>\n",
       "      <th>4</th>\n",
       "      <th>5</th>\n",
       "    </tr>\n",
       "  </thead>\n",
       "  <tbody>\n",
       "    <tr>\n",
       "      <td>0</td>\n",
       "      <td>1.0</td>\n",
       "      <td>120.963</td>\n",
       "      <td>7.0</td>\n",
       "      <td>188491.0</td>\n",
       "      <td>-6.029</td>\n",
       "      <td>1.0</td>\n",
       "    </tr>\n",
       "    <tr>\n",
       "      <td>1</td>\n",
       "      <td>0.0</td>\n",
       "      <td>124.994</td>\n",
       "      <td>3.0</td>\n",
       "      <td>249947.0</td>\n",
       "      <td>-4.823</td>\n",
       "      <td>1.0</td>\n",
       "    </tr>\n",
       "    <tr>\n",
       "      <td>2</td>\n",
       "      <td>0.0</td>\n",
       "      <td>89.901</td>\n",
       "      <td>9.0</td>\n",
       "      <td>181958.0</td>\n",
       "      <td>-7.154</td>\n",
       "      <td>1.0</td>\n",
       "    </tr>\n",
       "    <tr>\n",
       "      <td>3</td>\n",
       "      <td>1.0</td>\n",
       "      <td>80.026</td>\n",
       "      <td>7.0</td>\n",
       "      <td>253640.0</td>\n",
       "      <td>-5.204</td>\n",
       "      <td>1.0</td>\n",
       "    </tr>\n",
       "    <tr>\n",
       "      <td>4</td>\n",
       "      <td>1.0</td>\n",
       "      <td>129.996</td>\n",
       "      <td>5.0</td>\n",
       "      <td>179640.0</td>\n",
       "      <td>-3.173</td>\n",
       "      <td>1.0</td>\n",
       "    </tr>\n",
       "    <tr>\n",
       "      <td>...</td>\n",
       "      <td>...</td>\n",
       "      <td>...</td>\n",
       "      <td>...</td>\n",
       "      <td>...</td>\n",
       "      <td>...</td>\n",
       "      <td>...</td>\n",
       "    </tr>\n",
       "    <tr>\n",
       "      <td>13718</td>\n",
       "      <td>0.0</td>\n",
       "      <td>144.767</td>\n",
       "      <td>11.0</td>\n",
       "      <td>219533.0</td>\n",
       "      <td>-7.325</td>\n",
       "      <td>1.0</td>\n",
       "    </tr>\n",
       "    <tr>\n",
       "      <td>13719</td>\n",
       "      <td>0.0</td>\n",
       "      <td>139.788</td>\n",
       "      <td>9.0</td>\n",
       "      <td>559569.0</td>\n",
       "      <td>-6.171</td>\n",
       "      <td>1.0</td>\n",
       "    </tr>\n",
       "    <tr>\n",
       "      <td>13720</td>\n",
       "      <td>0.0</td>\n",
       "      <td>127.119</td>\n",
       "      <td>11.0</td>\n",
       "      <td>276187.0</td>\n",
       "      <td>-6.607</td>\n",
       "      <td>1.0</td>\n",
       "    </tr>\n",
       "    <tr>\n",
       "      <td>13721</td>\n",
       "      <td>1.0</td>\n",
       "      <td>125.976</td>\n",
       "      <td>10.0</td>\n",
       "      <td>188253.0</td>\n",
       "      <td>-4.603</td>\n",
       "      <td>1.0</td>\n",
       "    </tr>\n",
       "    <tr>\n",
       "      <td>13722</td>\n",
       "      <td>1.0</td>\n",
       "      <td>185.034</td>\n",
       "      <td>7.0</td>\n",
       "      <td>202760.0</td>\n",
       "      <td>-6.172</td>\n",
       "      <td>1.0</td>\n",
       "    </tr>\n",
       "  </tbody>\n",
       "</table>\n",
       "<p>13723 rows × 6 columns</p>\n",
       "</div>"
      ],
      "text/plain": [
       "         0        1     2         3      4    5\n",
       "0      1.0  120.963   7.0  188491.0 -6.029  1.0\n",
       "1      0.0  124.994   3.0  249947.0 -4.823  1.0\n",
       "2      0.0   89.901   9.0  181958.0 -7.154  1.0\n",
       "3      1.0   80.026   7.0  253640.0 -5.204  1.0\n",
       "4      1.0  129.996   5.0  179640.0 -3.173  1.0\n",
       "...    ...      ...   ...       ...    ...  ...\n",
       "13718  0.0  144.767  11.0  219533.0 -7.325  1.0\n",
       "13719  0.0  139.788   9.0  559569.0 -6.171  1.0\n",
       "13720  0.0  127.119  11.0  276187.0 -6.607  1.0\n",
       "13721  1.0  125.976  10.0  188253.0 -4.603  1.0\n",
       "13722  1.0  185.034   7.0  202760.0 -6.172  1.0\n",
       "\n",
       "[13723 rows x 6 columns]"
      ]
     },
     "execution_count": 57,
     "metadata": {},
     "output_type": "execute_result"
    }
   ],
   "source": [
    "from sklearn.feature_selection import VarianceThreshold\n",
    "\n",
    "characteristic_matrix = songs[attributes]\n",
    "\n",
    "sel = VarianceThreshold(threshold=(.8 * (1 - .8)))\n",
    "feature_matrix = sel.fit_transform(characteristic_matrix)\n",
    "pd.DataFrame(feature_matrix)"
   ]
  },
  {
   "cell_type": "code",
   "execution_count": 58,
   "metadata": {},
   "outputs": [
    {
     "data": {
      "text/html": [
       "<div>\n",
       "<style scoped>\n",
       "    .dataframe tbody tr th:only-of-type {\n",
       "        vertical-align: middle;\n",
       "    }\n",
       "\n",
       "    .dataframe tbody tr th {\n",
       "        vertical-align: top;\n",
       "    }\n",
       "\n",
       "    .dataframe thead th {\n",
       "        text-align: right;\n",
       "    }\n",
       "</style>\n",
       "<table border=\"1\" class=\"dataframe\">\n",
       "  <thead>\n",
       "    <tr style=\"text-align: right;\">\n",
       "      <th></th>\n",
       "      <th>mean</th>\n",
       "      <th>std</th>\n",
       "      <th>min</th>\n",
       "      <th>25%</th>\n",
       "      <th>50%</th>\n",
       "      <th>75%</th>\n",
       "      <th>max</th>\n",
       "    </tr>\n",
       "  </thead>\n",
       "  <tbody>\n",
       "    <tr>\n",
       "      <td>popularity</td>\n",
       "      <td>0.5126</td>\n",
       "      <td>0.4999</td>\n",
       "      <td>0.000</td>\n",
       "      <td>0.0000</td>\n",
       "      <td>1.0000</td>\n",
       "      <td>1.0000</td>\n",
       "      <td>1.000</td>\n",
       "    </tr>\n",
       "    <tr>\n",
       "      <td>energy</td>\n",
       "      <td>0.6571</td>\n",
       "      <td>0.2197</td>\n",
       "      <td>0.000</td>\n",
       "      <td>0.5170</td>\n",
       "      <td>0.6950</td>\n",
       "      <td>0.8320</td>\n",
       "      <td>1.000</td>\n",
       "    </tr>\n",
       "    <tr>\n",
       "      <td>liveness</td>\n",
       "      <td>0.1960</td>\n",
       "      <td>0.1644</td>\n",
       "      <td>0.000</td>\n",
       "      <td>0.0962</td>\n",
       "      <td>0.1290</td>\n",
       "      <td>0.2510</td>\n",
       "      <td>0.992</td>\n",
       "    </tr>\n",
       "    <tr>\n",
       "      <td>tempo</td>\n",
       "      <td>121.4018</td>\n",
       "      <td>29.9227</td>\n",
       "      <td>0.000</td>\n",
       "      <td>97.2250</td>\n",
       "      <td>120.0210</td>\n",
       "      <td>140.3965</td>\n",
       "      <td>218.064</td>\n",
       "    </tr>\n",
       "    <tr>\n",
       "      <td>speechiness</td>\n",
       "      <td>0.0941</td>\n",
       "      <td>0.1067</td>\n",
       "      <td>0.000</td>\n",
       "      <td>0.0341</td>\n",
       "      <td>0.0486</td>\n",
       "      <td>0.1010</td>\n",
       "      <td>0.964</td>\n",
       "    </tr>\n",
       "    <tr>\n",
       "      <td>acousticness</td>\n",
       "      <td>0.2330</td>\n",
       "      <td>0.2837</td>\n",
       "      <td>0.000</td>\n",
       "      <td>0.0159</td>\n",
       "      <td>0.0988</td>\n",
       "      <td>0.3650</td>\n",
       "      <td>0.996</td>\n",
       "    </tr>\n",
       "    <tr>\n",
       "      <td>instrumentalness</td>\n",
       "      <td>0.0561</td>\n",
       "      <td>0.1896</td>\n",
       "      <td>0.000</td>\n",
       "      <td>0.0000</td>\n",
       "      <td>0.0000</td>\n",
       "      <td>0.0005</td>\n",
       "      <td>0.999</td>\n",
       "    </tr>\n",
       "    <tr>\n",
       "      <td>time_signature</td>\n",
       "      <td>3.9384</td>\n",
       "      <td>0.3421</td>\n",
       "      <td>0.000</td>\n",
       "      <td>4.0000</td>\n",
       "      <td>4.0000</td>\n",
       "      <td>4.0000</td>\n",
       "      <td>5.000</td>\n",
       "    </tr>\n",
       "    <tr>\n",
       "      <td>danceability</td>\n",
       "      <td>0.5853</td>\n",
       "      <td>0.1630</td>\n",
       "      <td>0.000</td>\n",
       "      <td>0.4800</td>\n",
       "      <td>0.5910</td>\n",
       "      <td>0.7000</td>\n",
       "      <td>0.986</td>\n",
       "    </tr>\n",
       "    <tr>\n",
       "      <td>key</td>\n",
       "      <td>5.1965</td>\n",
       "      <td>3.5691</td>\n",
       "      <td>0.000</td>\n",
       "      <td>2.0000</td>\n",
       "      <td>5.0000</td>\n",
       "      <td>8.0000</td>\n",
       "      <td>11.000</td>\n",
       "    </tr>\n",
       "    <tr>\n",
       "      <td>duration_ms</td>\n",
       "      <td>234736.7434</td>\n",
       "      <td>81075.1530</td>\n",
       "      <td>7968.000</td>\n",
       "      <td>199080.0000</td>\n",
       "      <td>226560.0000</td>\n",
       "      <td>259333.0000</td>\n",
       "      <td>3750987.000</td>\n",
       "    </tr>\n",
       "    <tr>\n",
       "      <td>loudness</td>\n",
       "      <td>-7.0328</td>\n",
       "      <td>3.7550</td>\n",
       "      <td>-56.633</td>\n",
       "      <td>-8.3025</td>\n",
       "      <td>-6.1200</td>\n",
       "      <td>-4.6600</td>\n",
       "      <td>1.228</td>\n",
       "    </tr>\n",
       "    <tr>\n",
       "      <td>valence</td>\n",
       "      <td>0.4963</td>\n",
       "      <td>0.2373</td>\n",
       "      <td>0.000</td>\n",
       "      <td>0.3060</td>\n",
       "      <td>0.4900</td>\n",
       "      <td>0.6840</td>\n",
       "      <td>0.995</td>\n",
       "    </tr>\n",
       "    <tr>\n",
       "      <td>mode</td>\n",
       "      <td>0.6865</td>\n",
       "      <td>0.4639</td>\n",
       "      <td>0.000</td>\n",
       "      <td>0.0000</td>\n",
       "      <td>1.0000</td>\n",
       "      <td>1.0000</td>\n",
       "      <td>1.000</td>\n",
       "    </tr>\n",
       "  </tbody>\n",
       "</table>\n",
       "</div>"
      ],
      "text/plain": [
       "                         mean         std       min          25%          50%  \\\n",
       "popularity             0.5126      0.4999     0.000       0.0000       1.0000   \n",
       "energy                 0.6571      0.2197     0.000       0.5170       0.6950   \n",
       "liveness               0.1960      0.1644     0.000       0.0962       0.1290   \n",
       "tempo                121.4018     29.9227     0.000      97.2250     120.0210   \n",
       "speechiness            0.0941      0.1067     0.000       0.0341       0.0486   \n",
       "acousticness           0.2330      0.2837     0.000       0.0159       0.0988   \n",
       "instrumentalness       0.0561      0.1896     0.000       0.0000       0.0000   \n",
       "time_signature         3.9384      0.3421     0.000       4.0000       4.0000   \n",
       "danceability           0.5853      0.1630     0.000       0.4800       0.5910   \n",
       "key                    5.1965      3.5691     0.000       2.0000       5.0000   \n",
       "duration_ms       234736.7434  81075.1530  7968.000  199080.0000  226560.0000   \n",
       "loudness              -7.0328      3.7550   -56.633      -8.3025      -6.1200   \n",
       "valence                0.4963      0.2373     0.000       0.3060       0.4900   \n",
       "mode                   0.6865      0.4639     0.000       0.0000       1.0000   \n",
       "\n",
       "                          75%          max  \n",
       "popularity             1.0000        1.000  \n",
       "energy                 0.8320        1.000  \n",
       "liveness               0.2510        0.992  \n",
       "tempo                140.3965      218.064  \n",
       "speechiness            0.1010        0.964  \n",
       "acousticness           0.3650        0.996  \n",
       "instrumentalness       0.0005        0.999  \n",
       "time_signature         4.0000        5.000  \n",
       "danceability           0.7000        0.986  \n",
       "key                    8.0000       11.000  \n",
       "duration_ms       259333.0000  3750987.000  \n",
       "loudness              -4.6600        1.228  \n",
       "valence                0.6840        0.995  \n",
       "mode                   1.0000        1.000  "
      ]
     },
     "execution_count": 58,
     "metadata": {},
     "output_type": "execute_result"
    }
   ],
   "source": [
    "desc = songs[attributes]\n",
    "round(desc.describe(), 4).T.drop('count', axis=1)"
   ]
  },
  {
   "cell_type": "code",
   "execution_count": null,
   "metadata": {},
   "outputs": [],
   "source": []
  },
  {
   "cell_type": "markdown",
   "metadata": {},
   "source": [
    "___\n",
    "## <p style=\"text-align:center\"> <u>METHODS</u>\n",
    "___"
   ]
  },
  {
   "cell_type": "markdown",
   "metadata": {},
   "source": [
    "##### Splitting the data into a training and testing set"
   ]
  },
  {
   "cell_type": "code",
   "execution_count": 59,
   "metadata": {},
   "outputs": [],
   "source": [
    "from sklearn.model_selection import train_test_split\n",
    "\n",
    "# import libraries to test accuracy\n",
    "from sklearn.metrics import mean_squared_error, r2_score, accuracy_score, log_loss\n",
    "\n",
    "# next few lines are to clean up warnings in calling the models\n",
    "# import warnings\n",
    "# warnings.simplefilter(action='ignore', category=FutureWarning)"
   ]
  },
  {
   "cell_type": "code",
   "execution_count": 60,
   "metadata": {},
   "outputs": [],
   "source": [
    "x = songs.drop([\"spotify_id\", \n",
    "                \"year\", \n",
    "                \"title\", \n",
    "                \"artist\", \n",
    "                \"peak_pos\", \n",
    "                \"popularity\", \n",
    "                \"valence\", \n",
    "                \"duration_ms\"], axis=1).values\n",
    "y = songs[\"popularity\"].values"
   ]
  },
  {
   "cell_type": "code",
   "execution_count": 61,
   "metadata": {},
   "outputs": [],
   "source": [
    "x_train, x_test, y_train, y_test = train_test_split(x, y, test_size=0.2, random_state=41, stratify=y)"
   ]
  },
  {
   "cell_type": "markdown",
   "metadata": {},
   "source": [
    "### <p style=\"text-align:center\">Logistic Regression"
   ]
  },
  {
   "cell_type": "code",
   "execution_count": 62,
   "metadata": {},
   "outputs": [],
   "source": [
    "from sklearn.linear_model import LogisticRegression\n",
    "\n",
    "penalties = ['l1', 'l2']\n",
    "solvers = ['newton-cg', 'lbfgs', 'liblinear', 'sag', 'saga']\n",
    "best_accuracy = 0\n",
    "p_list = []\n",
    "s_list = []\n",
    "acc_list = []\n",
    "\n",
    "for s in solvers:\n",
    "    for p in penalties:\n",
    "            try:\n",
    "                log_reg = LogisticRegression(solver=s, penalty=p, max_iter=10000, class_weight='balanced')\n",
    "                log_reg.fit(x_train, y_train)\n",
    "                log_reg_labels = log_reg.predict(x_test)\n",
    "                new_score = round(log_reg.score(x_test, y_test)*100,2)\n",
    "                s_list.append(s)\n",
    "                p_list.append(p)\n",
    "                acc_list.append(new_score)\n",
    "        \n",
    "                if (new_score >= best_accuracy):\n",
    "                    best_accuracy = new_score\n",
    "                    best_solver = s\n",
    "                    best_penalty = p\n",
    "                    \n",
    "\n",
    "            except:\n",
    "                pass\n",
    "            \n",
    "# print('Using the ' + str(best_solver) + ' solver and the ' + str(best_penalty) + ' penalty:')\n",
    "# print('The best accuracy is: ' + str(best_accuracy) + '%\\n')\n",
    "# print(scores)\n",
    "\n",
    "lr_dict = {'penalty': p_list, 'solver': s_list, 'accuracy': acc_list}\n",
    "lr_df = pd.DataFrame(lr_dict).sort_values('accuracy', ascending=False)"
   ]
  },
  {
   "cell_type": "code",
   "execution_count": 63,
   "metadata": {},
   "outputs": [
    {
     "data": {
      "text/html": [
       "<div>\n",
       "<style scoped>\n",
       "    .dataframe tbody tr th:only-of-type {\n",
       "        vertical-align: middle;\n",
       "    }\n",
       "\n",
       "    .dataframe tbody tr th {\n",
       "        vertical-align: top;\n",
       "    }\n",
       "\n",
       "    .dataframe thead th {\n",
       "        text-align: right;\n",
       "    }\n",
       "</style>\n",
       "<table border=\"1\" class=\"dataframe\">\n",
       "  <thead>\n",
       "    <tr style=\"text-align: right;\">\n",
       "      <th></th>\n",
       "      <th>penalty</th>\n",
       "      <th>solver</th>\n",
       "      <th>accuracy</th>\n",
       "    </tr>\n",
       "  </thead>\n",
       "  <tbody>\n",
       "    <tr>\n",
       "      <td>1</td>\n",
       "      <td>l2</td>\n",
       "      <td>lbfgs</td>\n",
       "      <td>70.16</td>\n",
       "    </tr>\n",
       "    <tr>\n",
       "      <td>0</td>\n",
       "      <td>l2</td>\n",
       "      <td>newton-cg</td>\n",
       "      <td>70.13</td>\n",
       "    </tr>\n",
       "    <tr>\n",
       "      <td>2</td>\n",
       "      <td>l1</td>\n",
       "      <td>liblinear</td>\n",
       "      <td>70.13</td>\n",
       "    </tr>\n",
       "    <tr>\n",
       "      <td>3</td>\n",
       "      <td>l2</td>\n",
       "      <td>liblinear</td>\n",
       "      <td>70.13</td>\n",
       "    </tr>\n",
       "    <tr>\n",
       "      <td>4</td>\n",
       "      <td>l2</td>\n",
       "      <td>sag</td>\n",
       "      <td>69.91</td>\n",
       "    </tr>\n",
       "    <tr>\n",
       "      <td>5</td>\n",
       "      <td>l1</td>\n",
       "      <td>saga</td>\n",
       "      <td>69.87</td>\n",
       "    </tr>\n",
       "    <tr>\n",
       "      <td>6</td>\n",
       "      <td>l2</td>\n",
       "      <td>saga</td>\n",
       "      <td>69.76</td>\n",
       "    </tr>\n",
       "  </tbody>\n",
       "</table>\n",
       "</div>"
      ],
      "text/plain": [
       "  penalty     solver  accuracy\n",
       "1      l2      lbfgs     70.16\n",
       "0      l2  newton-cg     70.13\n",
       "2      l1  liblinear     70.13\n",
       "3      l2  liblinear     70.13\n",
       "4      l2        sag     69.91\n",
       "5      l1       saga     69.87\n",
       "6      l2       saga     69.76"
      ]
     },
     "execution_count": 63,
     "metadata": {},
     "output_type": "execute_result"
    }
   ],
   "source": [
    "lr_df.to_csv('LogisticRegressionAccuracy.csv')\n",
    "lr_df"
   ]
  },
  {
   "cell_type": "code",
   "execution_count": 23,
   "metadata": {},
   "outputs": [
    {
     "name": "stdout",
     "output_type": "stream",
     "text": [
      "RMSE:  0.549879933905761\n",
      "R2:  -0.21023645386137857\n"
     ]
    }
   ],
   "source": [
    "print(\"RMSE: \", np.sqrt(mean_squared_error(y_test, log_reg_labels)))\n",
    "print(\"R2: \", r2_score(y_test, log_reg_labels))"
   ]
  },
  {
   "cell_type": "code",
   "execution_count": 130,
   "metadata": {},
   "outputs": [
    {
     "data": {
      "text/plain": [
       "0.697632058287796"
      ]
     },
     "execution_count": 130,
     "metadata": {},
     "output_type": "execute_result"
    }
   ],
   "source": [
    "accuracy_score(y_test, log_reg_labels)"
   ]
  },
  {
   "cell_type": "code",
   "execution_count": null,
   "metadata": {},
   "outputs": [],
   "source": []
  },
  {
   "cell_type": "markdown",
   "metadata": {},
   "source": [
    "### <p style=\"text-align:center\">Stochastic Gradient Descent Classifier"
   ]
  },
  {
   "cell_type": "code",
   "execution_count": 67,
   "metadata": {},
   "outputs": [
    {
     "name": "stdout",
     "output_type": "stream",
     "text": [
      "100\n"
     ]
    }
   ],
   "source": [
    "import numpy as np\n",
    "ran = np.arange(.0001, .1, .001)\n",
    "print(len(ran))#*3*9*4)"
   ]
  },
  {
   "cell_type": "code",
   "execution_count": null,
   "metadata": {},
   "outputs": [],
   "source": [
    "from sklearn.linear_model import SGDClassifier\n",
    "\n",
    "penalties = ['l1', 'l2', 'elasticnet']\n",
    "loss_list = ['hinge', 'log', 'modified_huber', 'squared_hinge', 'perceptron', 'squared_loss', 'huber', 'epsilon_insensitive', 'squared_epsilon_insensitive']\n",
    "alpha_list = np.arange(.0001, .1, .001)\n",
    "rate = ['constant', 'optimal', 'invscaling', 'adaptive']\n",
    "eta = np.arange(.01, .1, .01)\n",
    "p_list = []\n",
    "l_list = []\n",
    "a_list = []\n",
    "r_list = []\n",
    "power_list = []\n",
    "eta_list = []\n",
    "\n",
    "acc_list = []\n",
    "\n",
    "for p in penalties:\n",
    "    for l in loss_list:\n",
    "        for a in alpha_list:\n",
    "            for r in rate:\n",
    "                for e in eta:\n",
    "                    try:\n",
    "                        if (r == 'optimal'):\n",
    "                            sgd_clf = SGDClassifier(random_state=42, max_iter=10000, tol=.001, penalty=p, loss=l, learning_rate=r, alpha=a, eta0=e)\n",
    "                            sgd_clf.fit(x_train, y_train)\n",
    "                            sgdc_labels = sgd_clf.predict(x_test)\n",
    "\n",
    "                            p_list.append(p)\n",
    "                            l_list.append(l)\n",
    "                            a_list.append(a)\n",
    "                            r_list.append(r)\n",
    "                            eta_list.append(e)\n",
    "                            acc_list.append(round(sgd_clf.score(x_test, y_test)*100,2))\n",
    "\n",
    "    #                         if(round(sgd_clf.score(x_test, y_test)*100,2) > 68):\n",
    "    #                             print('Using the ' + str(p) + ' penalty, ' + str(l) + ' loss function, ' + str(a) + ' alpha, and ' + str(r) + ' rate:')\n",
    "    #                             print('The accuracy is: ' + str(round(sgd_clf.score(x_test, y_test)*100,2)) + '%\\n')\n",
    "\n",
    "                        else:\n",
    "                            sgd_clf = SGDClassifier(random_state=42, max_iter=10000, tol=.001, penalty=p, loss=l, learning_rate=r, alpha=a)\n",
    "                            sgd_clf.fit(x_train, y_train)\n",
    "                            sgdc_labels = sgd_clf.predict(x_test)\n",
    "    #                         if(round(sgd_clf.score(x_test, y_test)*100,2) > 68):\n",
    "    #                             print('Using the ' + str(p) + ' penalty, ' + str(l) + ' loss function, ' + str(a) + ' alpha, and ' + str(r) + ' rate:')\n",
    "    #                             print('The accuracy is: ' + str(round(sgd_clf.score(x_test, y_test)*100,2)) + '%\\n')\n",
    "                            p_list.append(p)\n",
    "                            l_list.append(l)\n",
    "                            a_list.append(a)\n",
    "                            r_list.append(r)\n",
    "                            eta_list.append(e)\n",
    "                            acc_list.append(round(sgd_clf.score(x_test, y_test)*100,2))\n",
    "    \n",
    "                    except:\n",
    "                        pass\n",
    "\n",
    "sgdc_dict = {'penalties': p_list, 'loss': l_list, 'alpha': a_list, 'rate': r_list, 'eta0':eta_list, 'accuracy': acc_list}\n",
    "sgdc_df = pd.DataFrame(sgdc_dict).sort_values('accuracy', ascending=False)"
   ]
  },
  {
   "cell_type": "code",
   "execution_count": null,
   "metadata": {},
   "outputs": [],
   "source": [
    "sgdc_df.to_csv('SGDCAccuracy.csv')\n",
    "sgdc_df"
   ]
  },
  {
   "cell_type": "code",
   "execution_count": 70,
   "metadata": {},
   "outputs": [
    {
     "data": {
      "text/plain": [
       "0.6666666666666666"
      ]
     },
     "execution_count": 70,
     "metadata": {},
     "output_type": "execute_result"
    }
   ],
   "source": [
    "sgd_clf = SGDClassifier(random_state=42, max_iter=10000, tol=.001, penalty='l1', loss='log', learning_rate='adaptive', alpha=.001, eta0=100)\n",
    "sgd_clf.fit(x_train, y_train)\n",
    "sgd_clf.score(x_test, y_test)"
   ]
  },
  {
   "cell_type": "code",
   "execution_count": 71,
   "metadata": {},
   "outputs": [
    {
     "data": {
      "text/plain": [
       "array([0, 0, 1, ..., 0, 0, 0])"
      ]
     },
     "execution_count": 71,
     "metadata": {},
     "output_type": "execute_result"
    }
   ],
   "source": [
    "sgdc_labels = sgd_clf.predict(x_test)\n",
    "sgdc_labels"
   ]
  },
  {
   "cell_type": "code",
   "execution_count": 72,
   "metadata": {},
   "outputs": [
    {
     "data": {
      "text/plain": [
       "array([0, 1, 0, ..., 0, 1, 1])"
      ]
     },
     "execution_count": 72,
     "metadata": {},
     "output_type": "execute_result"
    }
   ],
   "source": [
    "y_test"
   ]
  },
  {
   "cell_type": "code",
   "execution_count": 73,
   "metadata": {},
   "outputs": [
    {
     "name": "stdout",
     "output_type": "stream",
     "text": [
      "RMSE:  0.5773502691896257\n",
      "R2:  -0.33417633166645944\n"
     ]
    }
   ],
   "source": [
    "print(\"RMSE: \", np.sqrt(mean_squared_error(y_test, sgdc_labels)))\n",
    "print(\"R2: \", r2_score(y_test, sgdc_labels))"
   ]
  },
  {
   "cell_type": "code",
   "execution_count": 74,
   "metadata": {},
   "outputs": [
    {
     "data": {
      "text/plain": [
       "0.6666666666666666"
      ]
     },
     "execution_count": 74,
     "metadata": {},
     "output_type": "execute_result"
    }
   ],
   "source": [
    "accuracy_score(y_test, sgdc_labels)"
   ]
  },
  {
   "cell_type": "markdown",
   "metadata": {},
   "source": [
    "### <p style=\"text-align:center\">k-Nearest Neighbors Classifier"
   ]
  },
  {
   "cell_type": "code",
   "execution_count": 75,
   "metadata": {},
   "outputs": [],
   "source": [
    "from sklearn.neighbors import KNeighborsClassifier\n",
    "\n",
    "neighbor_list = [20, 25, 30, 35, 40, 45, 50, 60, 65, 70, 80, 90, 100, 125, 150, 175, 200, 250, 300, 350, 400, 500, 600, 800, 1000]\n",
    "weight_list = ['uniform', 'distance']\n",
    "alg = ['ball_tree', 'kd_tree', 'brute', 'auto']\n",
    "n_list = []\n",
    "w_list = []\n",
    "a_list = []\n",
    "acc_list = []\n",
    "\n",
    "for n in neighbor_list:\n",
    "    for w in weight_list:\n",
    "        for a in alg:\n",
    "            knn = KNeighborsClassifier(n_neighbors=n, weights=w, algorithm=a)\n",
    "            knn.fit(x_train, y_train)\n",
    "            knn_labels = knn.predict(x_test)\n",
    "#             if (round(knn.score(x_test, y_test)*100,2) > 62):\n",
    "#                 print('Using the ' + str(n) + ' number of neighbors, a weight of ' + str(w) + ', and the ' + str(a) + ' algorithm:')\n",
    "#                 print('The accuracy is: ' + str(round(knn.score(x_test, y_test)*100,2)) + '%\\n')\n",
    "\n",
    "            n_list.append(n)\n",
    "            w_list.append(w)\n",
    "            a_list.append(a)\n",
    "            acc_list.append(round(knn.score(x_test, y_test)*100,2))\n",
    "\n",
    "knn_dict = {'neighbors': n_list, 'weights':w_list, 'algorithm': a_list, 'accuracy': acc_list}\n",
    "knn_df = pd.DataFrame(knn_dict).sort_values('accuracy', ascending=False)"
   ]
  },
  {
   "cell_type": "code",
   "execution_count": 76,
   "metadata": {},
   "outputs": [
    {
     "data": {
      "text/html": [
       "<div>\n",
       "<style scoped>\n",
       "    .dataframe tbody tr th:only-of-type {\n",
       "        vertical-align: middle;\n",
       "    }\n",
       "\n",
       "    .dataframe tbody tr th {\n",
       "        vertical-align: top;\n",
       "    }\n",
       "\n",
       "    .dataframe thead th {\n",
       "        text-align: right;\n",
       "    }\n",
       "</style>\n",
       "<table border=\"1\" class=\"dataframe\">\n",
       "  <thead>\n",
       "    <tr style=\"text-align: right;\">\n",
       "      <th></th>\n",
       "      <th>neighbors</th>\n",
       "      <th>weights</th>\n",
       "      <th>algorithm</th>\n",
       "      <th>accuracy</th>\n",
       "    </tr>\n",
       "  </thead>\n",
       "  <tbody>\n",
       "    <tr>\n",
       "      <td>138</td>\n",
       "      <td>250</td>\n",
       "      <td>uniform</td>\n",
       "      <td>brute</td>\n",
       "      <td>62.91</td>\n",
       "    </tr>\n",
       "    <tr>\n",
       "      <td>137</td>\n",
       "      <td>250</td>\n",
       "      <td>uniform</td>\n",
       "      <td>kd_tree</td>\n",
       "      <td>62.88</td>\n",
       "    </tr>\n",
       "    <tr>\n",
       "      <td>139</td>\n",
       "      <td>250</td>\n",
       "      <td>uniform</td>\n",
       "      <td>auto</td>\n",
       "      <td>62.88</td>\n",
       "    </tr>\n",
       "    <tr>\n",
       "      <td>136</td>\n",
       "      <td>250</td>\n",
       "      <td>uniform</td>\n",
       "      <td>ball_tree</td>\n",
       "      <td>62.88</td>\n",
       "    </tr>\n",
       "    <tr>\n",
       "      <td>131</td>\n",
       "      <td>200</td>\n",
       "      <td>uniform</td>\n",
       "      <td>auto</td>\n",
       "      <td>62.66</td>\n",
       "    </tr>\n",
       "    <tr>\n",
       "      <td>...</td>\n",
       "      <td>...</td>\n",
       "      <td>...</td>\n",
       "      <td>...</td>\n",
       "      <td>...</td>\n",
       "    </tr>\n",
       "    <tr>\n",
       "      <td>7</td>\n",
       "      <td>20</td>\n",
       "      <td>distance</td>\n",
       "      <td>auto</td>\n",
       "      <td>60.04</td>\n",
       "    </tr>\n",
       "    <tr>\n",
       "      <td>192</td>\n",
       "      <td>1000</td>\n",
       "      <td>uniform</td>\n",
       "      <td>ball_tree</td>\n",
       "      <td>59.85</td>\n",
       "    </tr>\n",
       "    <tr>\n",
       "      <td>193</td>\n",
       "      <td>1000</td>\n",
       "      <td>uniform</td>\n",
       "      <td>kd_tree</td>\n",
       "      <td>59.85</td>\n",
       "    </tr>\n",
       "    <tr>\n",
       "      <td>194</td>\n",
       "      <td>1000</td>\n",
       "      <td>uniform</td>\n",
       "      <td>brute</td>\n",
       "      <td>59.85</td>\n",
       "    </tr>\n",
       "    <tr>\n",
       "      <td>195</td>\n",
       "      <td>1000</td>\n",
       "      <td>uniform</td>\n",
       "      <td>auto</td>\n",
       "      <td>59.85</td>\n",
       "    </tr>\n",
       "  </tbody>\n",
       "</table>\n",
       "<p>200 rows × 4 columns</p>\n",
       "</div>"
      ],
      "text/plain": [
       "     neighbors   weights  algorithm  accuracy\n",
       "138        250   uniform      brute     62.91\n",
       "137        250   uniform    kd_tree     62.88\n",
       "139        250   uniform       auto     62.88\n",
       "136        250   uniform  ball_tree     62.88\n",
       "131        200   uniform       auto     62.66\n",
       "..         ...       ...        ...       ...\n",
       "7           20  distance       auto     60.04\n",
       "192       1000   uniform  ball_tree     59.85\n",
       "193       1000   uniform    kd_tree     59.85\n",
       "194       1000   uniform      brute     59.85\n",
       "195       1000   uniform       auto     59.85\n",
       "\n",
       "[200 rows x 4 columns]"
      ]
     },
     "execution_count": 76,
     "metadata": {},
     "output_type": "execute_result"
    }
   ],
   "source": [
    "knn_df.to_csv('knnAccuracy.csv')\n",
    "knn_df"
   ]
  },
  {
   "cell_type": "code",
   "execution_count": 77,
   "metadata": {},
   "outputs": [
    {
     "data": {
      "text/plain": [
       "array([1, 1, 1, ..., 0, 1, 1])"
      ]
     },
     "execution_count": 77,
     "metadata": {},
     "output_type": "execute_result"
    }
   ],
   "source": [
    "knn_labels = knn.predict(x_test)\n",
    "knn_labels"
   ]
  },
  {
   "cell_type": "code",
   "execution_count": 78,
   "metadata": {},
   "outputs": [
    {
     "data": {
      "text/plain": [
       "array([0, 1, 0, ..., 0, 1, 1])"
      ]
     },
     "execution_count": 78,
     "metadata": {},
     "output_type": "execute_result"
    }
   ],
   "source": [
    "y_test"
   ]
  },
  {
   "cell_type": "code",
   "execution_count": 79,
   "metadata": {},
   "outputs": [
    {
     "data": {
      "text/plain": [
       "0.6134790528233152"
      ]
     },
     "execution_count": 79,
     "metadata": {},
     "output_type": "execute_result"
    }
   ],
   "source": [
    "knn.score(x_test, y_test)"
   ]
  },
  {
   "cell_type": "code",
   "execution_count": 80,
   "metadata": {},
   "outputs": [
    {
     "name": "stdout",
     "output_type": "stream",
     "text": [
      "RMSE:  0.6217080883957397\n",
      "R2:  -0.5470612982493044\n"
     ]
    }
   ],
   "source": [
    "print(\"RMSE: \", np.sqrt(mean_squared_error(y_test, knn_labels)))\n",
    "print(\"R2: \", r2_score(y_test, knn_labels))"
   ]
  },
  {
   "cell_type": "code",
   "execution_count": 81,
   "metadata": {},
   "outputs": [
    {
     "data": {
      "text/plain": [
       "0.6134790528233152"
      ]
     },
     "execution_count": 81,
     "metadata": {},
     "output_type": "execute_result"
    }
   ],
   "source": [
    "accuracy_score(y_test, knn_labels)"
   ]
  },
  {
   "cell_type": "markdown",
   "metadata": {},
   "source": [
    "### <p style=\"text-align:center\"> Random Forrest Classifier"
   ]
  },
  {
   "cell_type": "code",
   "execution_count": 96,
   "metadata": {},
   "outputs": [],
   "source": [
    "from sklearn.ensemble import RandomForestClassifier\n",
    "\n",
    "estimator_list = [20, 25, 30, 35, 40, 45, 50, 60, 65, 70, 80, 90, 100, 125, 150, 175, 200, 250, 300, 350, 375, 400, 425, 450, 475, 500, 600, 800, 1000]\n",
    "e_list = []\n",
    "acc_list = []\n",
    "\n",
    "for e in estimator_list:\n",
    "    \n",
    "    rfc = RandomForestClassifier(n_estimators=e)\n",
    "    rfc.fit(x_train, y_train)\n",
    "    rfc_labels = rfc.predict(x_test)\n",
    "#     if(round(rfc.score(x_test, y_test)*100,2) > 71.5):\n",
    "#         print('Using the ' + str(n) + ' number of estimators:')\n",
    "#         print('The accuracy is: ' + str(round(rfc.score(x_test, y_test)*100,2)) + '%\\n')\n",
    "    e_list.append(e)\n",
    "    acc_list.append(round(rfc.score(x_test, y_test)*100,2))\n",
    "    \n",
    "rfc_dict = {'estimator': e_list, 'accuracy': acc_list}\n",
    "rfc_df = pd.DataFrame(rfc_dict).sort_values('accuracy', ascending=False)"
   ]
  },
  {
   "cell_type": "code",
   "execution_count": 97,
   "metadata": {},
   "outputs": [
    {
     "data": {
      "text/html": [
       "<div>\n",
       "<style scoped>\n",
       "    .dataframe tbody tr th:only-of-type {\n",
       "        vertical-align: middle;\n",
       "    }\n",
       "\n",
       "    .dataframe tbody tr th {\n",
       "        vertical-align: top;\n",
       "    }\n",
       "\n",
       "    .dataframe thead th {\n",
       "        text-align: right;\n",
       "    }\n",
       "</style>\n",
       "<table border=\"1\" class=\"dataframe\">\n",
       "  <thead>\n",
       "    <tr style=\"text-align: right;\">\n",
       "      <th></th>\n",
       "      <th>estimator</th>\n",
       "      <th>accuracy</th>\n",
       "    </tr>\n",
       "  </thead>\n",
       "  <tbody>\n",
       "    <tr>\n",
       "      <td>10</td>\n",
       "      <td>80</td>\n",
       "      <td>71.91</td>\n",
       "    </tr>\n",
       "    <tr>\n",
       "      <td>20</td>\n",
       "      <td>375</td>\n",
       "      <td>71.77</td>\n",
       "    </tr>\n",
       "    <tr>\n",
       "      <td>15</td>\n",
       "      <td>175</td>\n",
       "      <td>71.66</td>\n",
       "    </tr>\n",
       "    <tr>\n",
       "      <td>27</td>\n",
       "      <td>800</td>\n",
       "      <td>71.66</td>\n",
       "    </tr>\n",
       "    <tr>\n",
       "      <td>18</td>\n",
       "      <td>300</td>\n",
       "      <td>71.66</td>\n",
       "    </tr>\n",
       "    <tr>\n",
       "      <td>16</td>\n",
       "      <td>200</td>\n",
       "      <td>71.66</td>\n",
       "    </tr>\n",
       "    <tr>\n",
       "      <td>28</td>\n",
       "      <td>1000</td>\n",
       "      <td>71.62</td>\n",
       "    </tr>\n",
       "    <tr>\n",
       "      <td>23</td>\n",
       "      <td>450</td>\n",
       "      <td>71.62</td>\n",
       "    </tr>\n",
       "    <tr>\n",
       "      <td>17</td>\n",
       "      <td>250</td>\n",
       "      <td>71.55</td>\n",
       "    </tr>\n",
       "    <tr>\n",
       "      <td>19</td>\n",
       "      <td>350</td>\n",
       "      <td>71.51</td>\n",
       "    </tr>\n",
       "    <tr>\n",
       "      <td>25</td>\n",
       "      <td>500</td>\n",
       "      <td>71.40</td>\n",
       "    </tr>\n",
       "    <tr>\n",
       "      <td>21</td>\n",
       "      <td>400</td>\n",
       "      <td>71.40</td>\n",
       "    </tr>\n",
       "    <tr>\n",
       "      <td>22</td>\n",
       "      <td>425</td>\n",
       "      <td>71.37</td>\n",
       "    </tr>\n",
       "    <tr>\n",
       "      <td>24</td>\n",
       "      <td>475</td>\n",
       "      <td>71.33</td>\n",
       "    </tr>\n",
       "    <tr>\n",
       "      <td>26</td>\n",
       "      <td>600</td>\n",
       "      <td>71.29</td>\n",
       "    </tr>\n",
       "    <tr>\n",
       "      <td>14</td>\n",
       "      <td>150</td>\n",
       "      <td>71.26</td>\n",
       "    </tr>\n",
       "    <tr>\n",
       "      <td>2</td>\n",
       "      <td>30</td>\n",
       "      <td>71.26</td>\n",
       "    </tr>\n",
       "    <tr>\n",
       "      <td>12</td>\n",
       "      <td>100</td>\n",
       "      <td>71.22</td>\n",
       "    </tr>\n",
       "    <tr>\n",
       "      <td>9</td>\n",
       "      <td>70</td>\n",
       "      <td>71.18</td>\n",
       "    </tr>\n",
       "    <tr>\n",
       "      <td>7</td>\n",
       "      <td>60</td>\n",
       "      <td>71.18</td>\n",
       "    </tr>\n",
       "    <tr>\n",
       "      <td>8</td>\n",
       "      <td>65</td>\n",
       "      <td>71.11</td>\n",
       "    </tr>\n",
       "    <tr>\n",
       "      <td>6</td>\n",
       "      <td>50</td>\n",
       "      <td>71.07</td>\n",
       "    </tr>\n",
       "    <tr>\n",
       "      <td>1</td>\n",
       "      <td>25</td>\n",
       "      <td>71.00</td>\n",
       "    </tr>\n",
       "    <tr>\n",
       "      <td>13</td>\n",
       "      <td>125</td>\n",
       "      <td>70.89</td>\n",
       "    </tr>\n",
       "    <tr>\n",
       "      <td>4</td>\n",
       "      <td>40</td>\n",
       "      <td>70.86</td>\n",
       "    </tr>\n",
       "    <tr>\n",
       "      <td>11</td>\n",
       "      <td>90</td>\n",
       "      <td>70.78</td>\n",
       "    </tr>\n",
       "    <tr>\n",
       "      <td>5</td>\n",
       "      <td>45</td>\n",
       "      <td>70.75</td>\n",
       "    </tr>\n",
       "    <tr>\n",
       "      <td>0</td>\n",
       "      <td>20</td>\n",
       "      <td>70.67</td>\n",
       "    </tr>\n",
       "    <tr>\n",
       "      <td>3</td>\n",
       "      <td>35</td>\n",
       "      <td>69.29</td>\n",
       "    </tr>\n",
       "  </tbody>\n",
       "</table>\n",
       "</div>"
      ],
      "text/plain": [
       "    estimator  accuracy\n",
       "10         80     71.91\n",
       "20        375     71.77\n",
       "15        175     71.66\n",
       "27        800     71.66\n",
       "18        300     71.66\n",
       "16        200     71.66\n",
       "28       1000     71.62\n",
       "23        450     71.62\n",
       "17        250     71.55\n",
       "19        350     71.51\n",
       "25        500     71.40\n",
       "21        400     71.40\n",
       "22        425     71.37\n",
       "24        475     71.33\n",
       "26        600     71.29\n",
       "14        150     71.26\n",
       "2          30     71.26\n",
       "12        100     71.22\n",
       "9          70     71.18\n",
       "7          60     71.18\n",
       "8          65     71.11\n",
       "6          50     71.07\n",
       "1          25     71.00\n",
       "13        125     70.89\n",
       "4          40     70.86\n",
       "11         90     70.78\n",
       "5          45     70.75\n",
       "0          20     70.67\n",
       "3          35     69.29"
      ]
     },
     "execution_count": 97,
     "metadata": {},
     "output_type": "execute_result"
    }
   ],
   "source": [
    "rfc_df.to_csv('RandomForestAccuracy.csv')\n",
    "rfc_df"
   ]
  },
  {
   "cell_type": "code",
   "execution_count": 84,
   "metadata": {},
   "outputs": [
    {
     "data": {
      "text/plain": [
       "array([0, 0, 0, ..., 0, 0, 1])"
      ]
     },
     "execution_count": 84,
     "metadata": {},
     "output_type": "execute_result"
    }
   ],
   "source": [
    "rfc_labels = rfc.predict(x_test)\n",
    "rfc_labels"
   ]
  },
  {
   "cell_type": "code",
   "execution_count": 85,
   "metadata": {},
   "outputs": [
    {
     "data": {
      "text/plain": [
       "array([0, 1, 0, ..., 0, 1, 1])"
      ]
     },
     "execution_count": 85,
     "metadata": {},
     "output_type": "execute_result"
    }
   ],
   "source": [
    "y_test"
   ]
  },
  {
   "cell_type": "code",
   "execution_count": 86,
   "metadata": {},
   "outputs": [
    {
     "data": {
      "text/plain": [
       "0.7140255009107468"
      ]
     },
     "execution_count": 86,
     "metadata": {},
     "output_type": "execute_result"
    }
   ],
   "source": [
    "rfc.score(x_test, y_test)"
   ]
  },
  {
   "cell_type": "code",
   "execution_count": 87,
   "metadata": {},
   "outputs": [
    {
     "name": "stdout",
     "output_type": "stream",
     "text": [
      "RMSE:  0.5347658357536065\n",
      "R2:  -0.14462122443515923\n"
     ]
    }
   ],
   "source": [
    "print(\"RMSE: \", np.sqrt(mean_squared_error(y_test, rfc_labels)))\n",
    "print(\"R2: \", r2_score(y_test, rfc_labels))"
   ]
  },
  {
   "cell_type": "code",
   "execution_count": 88,
   "metadata": {},
   "outputs": [
    {
     "data": {
      "text/plain": [
       "0.7140255009107468"
      ]
     },
     "execution_count": 88,
     "metadata": {},
     "output_type": "execute_result"
    }
   ],
   "source": [
    "accuracy_score(y_test, rfc_labels)"
   ]
  },
  {
   "cell_type": "markdown",
   "metadata": {},
   "source": [
    "### <p style=\"text-align:center\"> Discriminant Analysis"
   ]
  },
  {
   "cell_type": "code",
   "execution_count": 89,
   "metadata": {},
   "outputs": [],
   "source": [
    "from sklearn.discriminant_analysis import LinearDiscriminantAnalysis\n",
    "\n",
    "solvers = ['svd', 'lsqr', 'eigen']\n",
    "shrink_values = [.1,.2,.3,.4,.5,.6,.7,.8,.9]\n",
    "s_list = []\n",
    "v_list = []\n",
    "acc_list = []\n",
    "\n",
    "for sol in solvers:\n",
    "    if (sol=='svd'):\n",
    "                lda = LinearDiscriminantAnalysis()\n",
    "                lda.fit(x_train, y_train)\n",
    "#                 print('Using the ' + str(sol) + ' solver:')\n",
    "#                 print('The accuracy is: ' + str(round(lda.score(x_test, y_test)*100, 2)) + '\\n')\n",
    "                s_list.append(sol)\n",
    "                v_list.append(0)\n",
    "                acc_list.append(round(lda.score(x_test, y_test)*100, 2))\n",
    "    else:\n",
    "        for sh in shrink_values:\n",
    "            try:\n",
    "                lda = LinearDiscriminantAnalysis(solver=sol, shrinkage=sh)\n",
    "                lda.fit(x_train, y_train)\n",
    "#                 print('Using the ' + str(sol) + ' solver and ' + str(sh) + ' shrinkage:')\n",
    "#                 print('The accuracy is: ' + str(round(lda.score(x_test, y_test)*100, 2)) + '\\n')\n",
    "                s_list.append(sol)\n",
    "                v_list.append(sh)\n",
    "                acc_list.append(round(lda.score(x_test, y_test)*100, 2))\n",
    "                \n",
    "            except:\n",
    "                pass\n",
    "\n",
    "lda_dict = {'solver': s_list, 'shrink values': v_list, 'accuracy': acc_list}\n",
    "lda_df = pd.DataFrame(lda_dict).sort_values('accuracy', ascending=False)"
   ]
  },
  {
   "cell_type": "code",
   "execution_count": 90,
   "metadata": {},
   "outputs": [
    {
     "data": {
      "text/html": [
       "<div>\n",
       "<style scoped>\n",
       "    .dataframe tbody tr th:only-of-type {\n",
       "        vertical-align: middle;\n",
       "    }\n",
       "\n",
       "    .dataframe tbody tr th {\n",
       "        vertical-align: top;\n",
       "    }\n",
       "\n",
       "    .dataframe thead th {\n",
       "        text-align: right;\n",
       "    }\n",
       "</style>\n",
       "<table border=\"1\" class=\"dataframe\">\n",
       "  <thead>\n",
       "    <tr style=\"text-align: right;\">\n",
       "      <th></th>\n",
       "      <th>solver</th>\n",
       "      <th>shrink values</th>\n",
       "      <th>accuracy</th>\n",
       "    </tr>\n",
       "  </thead>\n",
       "  <tbody>\n",
       "    <tr>\n",
       "      <td>0</td>\n",
       "      <td>svd</td>\n",
       "      <td>0.0</td>\n",
       "      <td>69.47</td>\n",
       "    </tr>\n",
       "    <tr>\n",
       "      <td>2</td>\n",
       "      <td>lsqr</td>\n",
       "      <td>0.2</td>\n",
       "      <td>63.79</td>\n",
       "    </tr>\n",
       "    <tr>\n",
       "      <td>1</td>\n",
       "      <td>lsqr</td>\n",
       "      <td>0.1</td>\n",
       "      <td>63.79</td>\n",
       "    </tr>\n",
       "    <tr>\n",
       "      <td>3</td>\n",
       "      <td>lsqr</td>\n",
       "      <td>0.3</td>\n",
       "      <td>63.50</td>\n",
       "    </tr>\n",
       "    <tr>\n",
       "      <td>10</td>\n",
       "      <td>eigen</td>\n",
       "      <td>0.1</td>\n",
       "      <td>63.50</td>\n",
       "    </tr>\n",
       "    <tr>\n",
       "      <td>11</td>\n",
       "      <td>eigen</td>\n",
       "      <td>0.2</td>\n",
       "      <td>62.84</td>\n",
       "    </tr>\n",
       "    <tr>\n",
       "      <td>4</td>\n",
       "      <td>lsqr</td>\n",
       "      <td>0.4</td>\n",
       "      <td>62.51</td>\n",
       "    </tr>\n",
       "    <tr>\n",
       "      <td>12</td>\n",
       "      <td>eigen</td>\n",
       "      <td>0.3</td>\n",
       "      <td>62.30</td>\n",
       "    </tr>\n",
       "    <tr>\n",
       "      <td>5</td>\n",
       "      <td>lsqr</td>\n",
       "      <td>0.5</td>\n",
       "      <td>61.89</td>\n",
       "    </tr>\n",
       "    <tr>\n",
       "      <td>6</td>\n",
       "      <td>lsqr</td>\n",
       "      <td>0.6</td>\n",
       "      <td>60.22</td>\n",
       "    </tr>\n",
       "    <tr>\n",
       "      <td>13</td>\n",
       "      <td>eigen</td>\n",
       "      <td>0.4</td>\n",
       "      <td>59.49</td>\n",
       "    </tr>\n",
       "    <tr>\n",
       "      <td>7</td>\n",
       "      <td>lsqr</td>\n",
       "      <td>0.7</td>\n",
       "      <td>58.00</td>\n",
       "    </tr>\n",
       "    <tr>\n",
       "      <td>14</td>\n",
       "      <td>eigen</td>\n",
       "      <td>0.5</td>\n",
       "      <td>56.98</td>\n",
       "    </tr>\n",
       "    <tr>\n",
       "      <td>15</td>\n",
       "      <td>eigen</td>\n",
       "      <td>0.6</td>\n",
       "      <td>55.52</td>\n",
       "    </tr>\n",
       "    <tr>\n",
       "      <td>8</td>\n",
       "      <td>lsqr</td>\n",
       "      <td>0.8</td>\n",
       "      <td>55.01</td>\n",
       "    </tr>\n",
       "    <tr>\n",
       "      <td>16</td>\n",
       "      <td>eigen</td>\n",
       "      <td>0.7</td>\n",
       "      <td>54.79</td>\n",
       "    </tr>\n",
       "    <tr>\n",
       "      <td>17</td>\n",
       "      <td>eigen</td>\n",
       "      <td>0.8</td>\n",
       "      <td>53.62</td>\n",
       "    </tr>\n",
       "    <tr>\n",
       "      <td>18</td>\n",
       "      <td>eigen</td>\n",
       "      <td>0.9</td>\n",
       "      <td>53.52</td>\n",
       "    </tr>\n",
       "    <tr>\n",
       "      <td>9</td>\n",
       "      <td>lsqr</td>\n",
       "      <td>0.9</td>\n",
       "      <td>53.41</td>\n",
       "    </tr>\n",
       "  </tbody>\n",
       "</table>\n",
       "</div>"
      ],
      "text/plain": [
       "   solver  shrink values  accuracy\n",
       "0     svd            0.0     69.47\n",
       "2    lsqr            0.2     63.79\n",
       "1    lsqr            0.1     63.79\n",
       "3    lsqr            0.3     63.50\n",
       "10  eigen            0.1     63.50\n",
       "11  eigen            0.2     62.84\n",
       "4    lsqr            0.4     62.51\n",
       "12  eigen            0.3     62.30\n",
       "5    lsqr            0.5     61.89\n",
       "6    lsqr            0.6     60.22\n",
       "13  eigen            0.4     59.49\n",
       "7    lsqr            0.7     58.00\n",
       "14  eigen            0.5     56.98\n",
       "15  eigen            0.6     55.52\n",
       "8    lsqr            0.8     55.01\n",
       "16  eigen            0.7     54.79\n",
       "17  eigen            0.8     53.62\n",
       "18  eigen            0.9     53.52\n",
       "9    lsqr            0.9     53.41"
      ]
     },
     "execution_count": 90,
     "metadata": {},
     "output_type": "execute_result"
    }
   ],
   "source": [
    "lda_df.to_csv('LinearDiscriminantAccuracy.csv')\n",
    "lda_df"
   ]
  },
  {
   "cell_type": "code",
   "execution_count": 91,
   "metadata": {},
   "outputs": [
    {
     "data": {
      "text/plain": [
       "array([1, 0, 0, ..., 1, 1, 1])"
      ]
     },
     "execution_count": 91,
     "metadata": {},
     "output_type": "execute_result"
    }
   ],
   "source": [
    "lda_labels = lda.predict(x_test)\n",
    "lda_labels"
   ]
  },
  {
   "cell_type": "code",
   "execution_count": 92,
   "metadata": {},
   "outputs": [
    {
     "data": {
      "text/plain": [
       "array([0, 1, 0, ..., 0, 1, 1])"
      ]
     },
     "execution_count": 92,
     "metadata": {},
     "output_type": "execute_result"
    }
   ],
   "source": [
    "y_test"
   ]
  },
  {
   "cell_type": "code",
   "execution_count": 93,
   "metadata": {},
   "outputs": [
    {
     "data": {
      "text/plain": [
       "0.5351548269581057"
      ]
     },
     "execution_count": 93,
     "metadata": {},
     "output_type": "execute_result"
    }
   ],
   "source": [
    "lda.score(x_test, y_test)"
   ]
  },
  {
   "cell_type": "code",
   "execution_count": 94,
   "metadata": {},
   "outputs": [
    {
     "name": "stdout",
     "output_type": "stream",
     "text": [
      "RMSE:  0.681795550764226\n",
      "R2:  -0.8605562832856857\n"
     ]
    }
   ],
   "source": [
    "print(\"RMSE: \", np.sqrt(mean_squared_error(y_test, lda_labels)))\n",
    "print(\"R2: \", r2_score(y_test, lda_labels))"
   ]
  },
  {
   "cell_type": "code",
   "execution_count": 95,
   "metadata": {},
   "outputs": [
    {
     "data": {
      "text/plain": [
       "0.5351548269581057"
      ]
     },
     "execution_count": 95,
     "metadata": {},
     "output_type": "execute_result"
    }
   ],
   "source": [
    "accuracy_score(y_test, lda_labels)"
   ]
  },
  {
   "cell_type": "markdown",
   "metadata": {},
   "source": [
    "### <p style=\"text-align:center\"> Simple Vector Machine"
   ]
  },
  {
   "cell_type": "code",
   "execution_count": 58,
   "metadata": {},
   "outputs": [
    {
     "name": "stderr",
     "output_type": "stream",
     "text": [
      "/usr/local/src/anaconda3/lib/python3.7/site-packages/sklearn/svm/base.py:196: FutureWarning: The default value of gamma will change from 'auto' to 'scale' in version 0.22 to account better for unscaled features. Set gamma explicitly to 'auto' or 'scale' to avoid this warning.\n",
      "  \"avoid this warning.\", FutureWarning)\n"
     ]
    },
    {
     "data": {
      "text/plain": [
       "SVC(C=1.0, cache_size=200, class_weight=None, coef0=0.0,\n",
       "  decision_function_shape='ovr', degree=3, gamma='auto_deprecated',\n",
       "  kernel='rbf', max_iter=-1, probability=False, random_state=None,\n",
       "  shrinking=True, tol=0.001, verbose=False)"
      ]
     },
     "execution_count": 58,
     "metadata": {},
     "output_type": "execute_result"
    }
   ],
   "source": [
    "from sklearn import svm\n",
    "\n",
    "s_v_m = svm.SVC()\n",
    "s_v_m.fit(x_train, y_train)"
   ]
  },
  {
   "cell_type": "code",
   "execution_count": 59,
   "metadata": {},
   "outputs": [
    {
     "data": {
      "text/plain": [
       "array([1, 1, 1, ..., 0, 1, 0])"
      ]
     },
     "execution_count": 59,
     "metadata": {},
     "output_type": "execute_result"
    }
   ],
   "source": [
    "s_v_m_labels = s_v_m.predict(x_test)\n",
    "s_v_m_labels"
   ]
  },
  {
   "cell_type": "code",
   "execution_count": 60,
   "metadata": {},
   "outputs": [
    {
     "data": {
      "text/plain": [
       "array([0, 1, 0, ..., 0, 1, 1])"
      ]
     },
     "execution_count": 60,
     "metadata": {},
     "output_type": "execute_result"
    }
   ],
   "source": [
    "y_test"
   ]
  },
  {
   "cell_type": "code",
   "execution_count": 61,
   "metadata": {},
   "outputs": [
    {
     "data": {
      "text/plain": [
       "0.6797814207650273"
      ]
     },
     "execution_count": 61,
     "metadata": {},
     "output_type": "execute_result"
    }
   ],
   "source": [
    "s_v_m.score(x_test, y_test)"
   ]
  },
  {
   "cell_type": "code",
   "execution_count": 62,
   "metadata": {},
   "outputs": [
    {
     "name": "stdout",
     "output_type": "stream",
     "text": [
      "RMSE:  0.5658785905430357\n",
      "R2:  -0.28168414812548415\n"
     ]
    }
   ],
   "source": [
    "print(\"RMSE: \", np.sqrt(mean_squared_error(y_test, s_v_m_labels)))\n",
    "print(\"R2: \", r2_score(y_test, s_v_m_labels))"
   ]
  },
  {
   "cell_type": "code",
   "execution_count": 63,
   "metadata": {},
   "outputs": [
    {
     "data": {
      "text/plain": [
       "0.6797814207650273"
      ]
     },
     "execution_count": 63,
     "metadata": {},
     "output_type": "execute_result"
    }
   ],
   "source": [
    "accuracy_score(y_test, s_v_m_labels)"
   ]
  },
  {
   "cell_type": "markdown",
   "metadata": {},
   "source": [
    "### <p style=\"text-align:center\">Cross Validation</p>"
   ]
  },
  {
   "cell_type": "code",
   "execution_count": null,
   "metadata": {},
   "outputs": [],
   "source": [
    "# from sklearn.model_selection import cross_val_score\n",
    "\n",
    "# log_reg = LogisticRegression(solver='lbfgs')\n",
    "# log_reg.fit(x_train, y_train)\n",
    "# log_reg.predict(x_test)\n",
    "\n",
    "\n",
    "# print(cross_val_score(log_reg, x_train, y_train))"
   ]
  },
  {
   "cell_type": "markdown",
   "metadata": {},
   "source": [
    "### <p style=\"text-align:center\">Classification Showdown</p>"
   ]
  },
  {
   "cell_type": "code",
   "execution_count": 64,
   "metadata": {},
   "outputs": [
    {
     "name": "stdout",
     "output_type": "stream",
     "text": [
      "==============================\n",
      "KNeighborsClassifier\n",
      "****Results****\n",
      "Accuracy: 63.3151%\n",
      "Log Loss: 4.248661334096427\n"
     ]
    },
    {
     "name": "stderr",
     "output_type": "stream",
     "text": [
      "/usr/local/src/anaconda3/lib/python3.7/site-packages/sklearn/svm/base.py:196: FutureWarning: The default value of gamma will change from 'auto' to 'scale' in version 0.22 to account better for unscaled features. Set gamma explicitly to 'auto' or 'scale' to avoid this warning.\n",
      "  \"avoid this warning.\", FutureWarning)\n"
     ]
    },
    {
     "name": "stdout",
     "output_type": "stream",
     "text": [
      "==============================\n",
      "SVC\n",
      "****Results****\n",
      "Accuracy: 64.6995%\n",
      "Log Loss: 0.6259581737318838\n"
     ]
    },
    {
     "name": "stderr",
     "output_type": "stream",
     "text": [
      "/usr/local/src/anaconda3/lib/python3.7/site-packages/sklearn/svm/base.py:196: FutureWarning: The default value of gamma will change from 'auto' to 'scale' in version 0.22 to account better for unscaled features. Set gamma explicitly to 'auto' or 'scale' to avoid this warning.\n",
      "  \"avoid this warning.\", FutureWarning)\n"
     ]
    },
    {
     "name": "stdout",
     "output_type": "stream",
     "text": [
      "==============================\n",
      "NuSVC\n",
      "****Results****\n",
      "Accuracy: 56.9399%\n",
      "Log Loss: 0.6682781905474589\n",
      "==============================\n",
      "DecisionTreeClassifier\n",
      "****Results****\n",
      "Accuracy: 60.6193%\n",
      "Log Loss: 13.589531803593681\n"
     ]
    },
    {
     "name": "stderr",
     "output_type": "stream",
     "text": [
      "/usr/local/src/anaconda3/lib/python3.7/site-packages/sklearn/ensemble/forest.py:246: FutureWarning: The default value of n_estimators will change from 10 in version 0.20 to 100 in 0.22.\n",
      "  \"10 in version 0.20 to 100 in 0.22.\", FutureWarning)\n"
     ]
    },
    {
     "name": "stdout",
     "output_type": "stream",
     "text": [
      "==============================\n",
      "RandomForestClassifier\n",
      "****Results****\n",
      "Accuracy: 68.4882%\n",
      "Log Loss: 1.3262602305873024\n",
      "==============================\n",
      "AdaBoostClassifier\n",
      "****Results****\n",
      "Accuracy: 70.7832%\n",
      "Log Loss: 0.6848317932628435\n",
      "==============================\n",
      "GradientBoostingClassifier\n",
      "****Results****\n",
      "Accuracy: 71.9490%\n",
      "Log Loss: 0.5631260840897993\n",
      "==============================\n",
      "GaussianNB\n",
      "****Results****\n",
      "Accuracy: 64.4080%\n",
      "Log Loss: 1.2738302932361643\n",
      "==============================\n",
      "LinearDiscriminantAnalysis\n",
      "****Results****\n",
      "Accuracy: 69.0346%\n",
      "Log Loss: 0.6006280397814175\n",
      "==============================\n",
      "QuadraticDiscriminantAnalysis\n",
      "****Results****\n",
      "Accuracy: 64.6266%\n",
      "Log Loss: 1.0748654636451271\n",
      "==============================\n"
     ]
    }
   ],
   "source": [
    "# from sklearn.metrics import accuracy_score, log_loss\n",
    "# from sklearn.neighbors import KNeighborsClassifier\n",
    "# from sklearn.svm import SVC, LinearSVC, NuSVC\n",
    "# from sklearn.tree import DecisionTreeClassifier\n",
    "# from sklearn.ensemble import RandomForestClassifier, AdaBoostClassifier, GradientBoostingClassifier\n",
    "# from sklearn.naive_bayes import GaussianNB\n",
    "# from sklearn.discriminant_analysis import LinearDiscriminantAnalysis\n",
    "# from sklearn.discriminant_analysis import QuadraticDiscriminantAnalysis\n",
    "\n",
    "# classifiers = [\n",
    "#     KNeighborsClassifier(3),\n",
    "#     SVC(kernel=\"rbf\", C=0.025, probability=True),\n",
    "#     NuSVC(probability=True),\n",
    "#     DecisionTreeClassifier(),\n",
    "#     RandomForestClassifier(),\n",
    "#     AdaBoostClassifier(),\n",
    "#     GradientBoostingClassifier(),\n",
    "#     GaussianNB(),\n",
    "#     LinearDiscriminantAnalysis(),\n",
    "#     QuadraticDiscriminantAnalysis()]\n",
    "\n",
    "# # Logging for Visual Comparison\n",
    "# log_cols=[\"Classifier\", \"Accuracy\", \"Log Loss\"]\n",
    "# log = pd.DataFrame(columns=log_cols)\n",
    "\n",
    "# for clf in classifiers:\n",
    "#     clf.fit(x_train, y_train)\n",
    "#     name = clf.__class__.__name__\n",
    "    \n",
    "#     print(\"=\"*30)\n",
    "#     print(name)\n",
    "    \n",
    "#     print('****Results****')\n",
    "#     train_predictions = clf.predict(x_test)\n",
    "#     acc = accuracy_score(y_test, train_predictions)\n",
    "#     print(\"Accuracy: {:.4%}\".format(acc))\n",
    "    \n",
    "#     train_predictions = clf.predict_proba(x_test)\n",
    "#     ll = log_loss(y_test, train_predictions)\n",
    "#     print(\"Log Loss: {}\".format(ll))\n",
    "    \n",
    "#     log_entry = pd.DataFrame([[name, acc*100, ll]], columns=log_cols)\n",
    "#     log = log.append(log_entry)\n",
    "    \n",
    "# print(\"=\"*30)"
   ]
  },
  {
   "cell_type": "code",
   "execution_count": 65,
   "metadata": {},
   "outputs": [
    {
     "data": {
      "image/png": "[encoded data removed]",
      "text/plain": [
       "<Figure size 432x288 with 1 Axes>"
      ]
     },
     "metadata": {
      "needs_background": "light"
     },
     "output_type": "display_data"
    },
    {
     "data": {
      "image/png": "[encoded data removed]",
      "text/plain": [
       "<Figure size 432x288 with 1 Axes>"
      ]
     },
     "metadata": {
      "needs_background": "light"
     },
     "output_type": "display_data"
    }
   ],
   "source": [
    "sns.set_color_codes(\"muted\")\n",
    "sns.barplot(x='Accuracy', y='Classifier', data=log, color=\"b\")\n",
    "\n",
    "plt.xlabel('Accuracy %')\n",
    "plt.title('Classifier Accuracy')\n",
    "plt.show()\n",
    "\n",
    "sns.set_color_codes(\"muted\")\n",
    "sns.barplot(x='Log Loss', y='Classifier', data=log, color=\"g\")\n",
    "\n",
    "plt.xlabel('Log Loss')\n",
    "plt.title('Classifier Log Loss')\n",
    "plt.show()\n",
    "\n",
    "#https://www.kaggle.com/jeffd23/10-classifier-showdown-in-scikit-learn"
   ]
  },
  {
   "cell_type": "markdown",
   "metadata": {},
   "source": [
    "___\n",
    "## <p style=\"text-align:center\"> <u>RESULTS</u>\n",
    "___"
   ]
  },
  {
   "cell_type": "code",
   "execution_count": null,
   "metadata": {},
   "outputs": [],
   "source": []
  },
  {
   "cell_type": "markdown",
   "metadata": {},
   "source": [
    "___\n",
    "## <p style=\"text-align:center\"> <u>DISCUSSION</u>\n",
    "___"
   ]
  },
  {
   "cell_type": "code",
   "execution_count": null,
   "metadata": {},
   "outputs": [],
   "source": []
  },
  {
   "cell_type": "markdown",
   "metadata": {},
   "source": [
    "___\n",
    "## <p style=\"text-align:center\"> <u>CONCLUSION</u>\n",
    "___"
   ]
  },
  {
   "cell_type": "code",
   "execution_count": null,
   "metadata": {},
   "outputs": [],
   "source": []
  },
  {
   "cell_type": "markdown",
   "metadata": {},
   "source": [
    "___\n",
    "## <p style=\"text-align:center\"> <u>REFERENCES</u>\n",
    "___"
   ]
  },
  {
   "cell_type": "markdown",
   "metadata": {},
   "source": [
    "https://data.world/typhon/billboard-hot-100-songs-2000-2018-w-spotify-data-lyrics\n",
    "https://www.kaggle.com/mousehead/songlyrics\n",
    "https://spotipy.readthedocs.io/en/latest/\n"
   ]
  },
  {
   "cell_type": "code",
   "execution_count": null,
   "metadata": {},
   "outputs": [],
   "source": []
  }
 ],
 "metadata": {
  "kernelspec": {
   "display_name": "Python 3",
   "language": "python",
   "name": "python3"
  },
  "language_info": {
   "codemirror_mode": {
    "name": "ipython",
    "version": 3
   },
   "file_extension": ".py",
   "mimetype": "text/x-python",
   "name": "python",
   "nbconvert_exporter": "python",
   "pygments_lexer": "ipython3",
   "version": "3.7.1"
  }
 },
 "nbformat": 4,
 "nbformat_minor": 2
}
